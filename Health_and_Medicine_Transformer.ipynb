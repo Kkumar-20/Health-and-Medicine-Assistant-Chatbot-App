{
 "cells": [
  {
   "cell_type": "code",
   "execution_count": 1,
   "id": "30fee29b",
   "metadata": {},
   "outputs": [],
   "source": [
    "from typing import Optional, Union, Any\n",
    "from df_engine.core import Context, Actor\n",
    "from data.appointment_    import appointment\n",
    "from data.doctor_         import doctor\n",
    "from data.health_         import health\n",
    "from data.medicine_       import medicine\n",
    "from data.diet_           import diet\n",
    "from data.mental_health_  import mental_health\n",
    "\n",
    "\n",
    "def healmed_request(ctx: Context, actor: Actor, *args, **kwargs) -> Any:\n",
    "    request = ctx.last_request\n",
    "    request = request.lower()\n",
    "    if re.search(r'\\bappointment\\b|\\bdoctor', request, re.IGNORECASE):\n",
    "        if re.search(r'\\bappointment\\b|\\bdoctor', request, re.IGNORECASE)[0] == 'appointment':\n",
    "            return appointment(request)\n",
    "        else:\n",
    "            return doctor(request)\n",
    "    elif re.search(r'\\bhealth\\b|\\bmedicine', request, re.IGNORECASE):\n",
    "        if re.search(r'\\bhealth\\b|\\bmedicine', request, re.IGNORECASE)[0] == 'health':\n",
    "            return health(request)\n",
    "        else:\n",
    "            return medicine(request)\n",
    "    elif re.search(r'\\bdiet\\b|\\bmental_health', request, re.IGNORECASE):\n",
    "        if re.search(r'\\bdiet\\b|\\bmental_health', request, re.IGNORECASE)[0] == 'diet':\n",
    "            return diet(request)\n",
    "        else:\n",
    "            return mental_health(request)\n",
    "    elif re.search(r'\\b|Physicians|Cardiologists|Gastroenterologists|Dentist|ENT specialist|Gynaecologist', request, re.IGNORECASE):\n",
    "        return  \"\"\"OK! I have book a appointment of {} Doctor for you Sir\"\"\".format(request)\n",
    "    return \"Sure Sir, I thanks for your visit that but your can go other services if needed you can type 'hi'\""
   ]
  },
  {
   "cell_type": "code",
   "execution_count": 2,
   "id": "3f655f65",
   "metadata": {},
   "outputs": [
    {
     "name": "stderr",
     "output_type": "stream",
     "text": [
      "2022-01-11 07:22:31,652-           root:104:        turn_handler():INFO - in_request=Hi ->\n",
      " Hi I'm Health and medicine Chatbot Assitant, how may help you?\n",
      "2022-01-11 07:22:31,659-           root:104:        turn_handler():INFO - in_request=I want to book a appointment? ->\n",
      " OK! I have book a appointment of Doctor for health checkup for you Sir\n",
      "2022-01-11 07:22:31,667-           root:104:        turn_handler():INFO - in_request=Physicians ->\n",
      " OK! I have book a appointment of physicians Doctor for you Sir\n",
      "2022-01-11 07:22:31,675-           root:104:        turn_handler():INFO - in_request=Thanks ->\n",
      " Welcome Sir/Mam\n",
      "2022-01-11 07:22:31,689-           root:104:        turn_handler():INFO - in_request=bye ->\n",
      " Sure Sir, I thanks for your visit but your can go other services if needed you can type 'hi'\n",
      "2022-01-11 07:22:31,703-           root:104:        turn_handler():INFO - in_request=Hi ->\n",
      " Hi I'm Health and medicine Chatbot Assitant, how may help you?\n",
      "2022-01-11 07:22:31,726-           root:104:        turn_handler():INFO - in_request=What is health? ->\n",
      " Health refers to the extent of a person’s physical, mental, and social well-being. This definition, taken from the World Health Organization’s treatment of health, emphasizes that health is a complex concept that involves not just the soundness of a person’s body but also the state of a person’s mind and the quality of the social environment in which she or he lives. The quality of the social environment in turn can affect a person’s physical and mental health, underscoring the importance of social factors for these twin aspects of our overall well-being.\n",
      "2022-01-11 07:22:31,747-           root:104:        turn_handler():INFO - in_request=What is medicine ->\n",
      " Medicine is the social institution that seeks both to prevent, diagnose, and treat illness and to promote health as just defined. Dissatisfaction with the medical establishment has been growing.Part of this dissatisfaction stems from soaring health-care costs and what many perceive as insensitive stinginess by the health insurance industry, as the 2009 battle over health-care reform illustrated. Some of the dissatisfaction also reflects a growing view that the social and even spiritual realms of human existence play a key role in health and illness. This view has fueled renewed interestin alternative medicine. We return later to these many issues for the social institution of medicine.\n",
      "2022-01-11 07:22:31,785-           root:104:        turn_handler():INFO - in_request=what is mental_health? ->\n",
      " Mental health refers to cognitive, behavioral, and emotional well-being. It is all about how people think, feel, and behave. People sometimes use the term “mental health” to mean the absence of a mental disorder. Mental health can affect daily living, relationships, and physical health.Mental health as a state of well-being in which the individual realizes his or her own abilities, can cope with the normal stresses of life, can work productively and fruitfully, and is able to make a contribution to his or her community.\n",
      "2022-01-11 07:22:31,809-           root:104:        turn_handler():INFO - in_request=how  can are change my diet? ->\n",
      " Diet is the sum of food consumed by a person or other organism. The word diet often implies the use of specific intake of nutrition for health or weight-management reasons (with the two often being related). Although humans are omnivores, each culture and each person holds some food preferences or some food taboos. This may be due to personal tastes or ethical reasons. Individual dietary choices may be more or less healthy.Diet includes a variety of plant-based and animal-based foods that provide nutrients tothe body. Such nutrients provide the body with energy and keep it running. Nutrients help build and strengthenbones, muscles, and tendons and also regulate body processes (i.e., blood pressure). Water is essential for growth, reproduction and good health. Macronutrients are consumed in relatively large quantities and include proteins, carbohydrates, and fats and fatty acids. Micronutrients – vitamins and minerals – are consumed in relatively smaller quantities, but are essential to body processes.\n",
      "2022-01-11 07:22:31,826-           root:104:        turn_handler():INFO - in_request=what a doctor ->\n",
      " There is a many doctor like following:\n",
      "- Physicians\n",
      "- Cardiologists\n",
      "- Gastroenterologists\n",
      "- Dentist\n",
      "- ENT specialist\n",
      "- Gynaecologist\n",
      "Please write type of doctor according above way\n",
      "2022-01-11 07:22:31,852-           root:104:        turn_handler():INFO - in_request=Ok ->\n",
      " Welcome Sir/Mam\n",
      "2022-01-11 07:22:31,888-           root:104:        turn_handler():INFO - in_request=bye ->\n",
      " Sure Sir, I thanks for your visit but your can go other services if needed you can type 'hi'\n"
     ]
    },
    {
     "name": "stdout",
     "output_type": "stream",
     "text": [
      "<-- Test Successful -->\n"
     ]
    }
   ],
   "source": [
    "import re\n",
    "import logging\n",
    "from typing import Optional, Union\n",
    "\n",
    "from df_engine.core.keywords import TRANSITIONS, RESPONSE\n",
    "from df_engine.core import Context, Actor\n",
    "import df_engine.conditions as cnd\n",
    "\n",
    "logger = logging.getLogger(__name__)\n",
    "\n",
    "# First of all, to create a dialog agent, we need to create a dialog script.\n",
    "# Below, `plot` is the dialog script.\n",
    "# A dialog script is a flow dictionary that can contain multiple plot .\n",
    "# Plot are needed in order to divide a dialog into sub-dialogs and process them separately.\n",
    "# For example, the separation can be tied to the topic of the dialog.\n",
    "# In our example, there is one flow called greeting_flow.\n",
    "\n",
    "# Inside each flow, we can describe a sub-dialog.\n",
    "# Here we can also use keyword `LOCAL`, which we have considered in other examples.\n",
    "\n",
    "# Flow describes a sub-dialog using linked nodes, each node has the keywords `RESPONSE` and `TRANSITIONS`.\n",
    "\n",
    "# `RESPONSE` - contains the response that the dialog agent will return when transitioning to this node.\n",
    "# `TRANSITIONS` - describes transitions from the current node to other nodes.\n",
    "# `TRANSITIONS` are described in pairs:\n",
    "#      - the node to which the agent will perform the transition\n",
    "#      - the condition under which to make the transition\n",
    "plot = {\n",
    "    \"greeting_flow\": {\n",
    "        \"start_node\": {  # This is an initial node, it doesn't need an `RESPONSE`\n",
    "            RESPONSE: \"\",\n",
    "            TRANSITIONS: {\"node1\": cnd.regexp(r\"\\bHi\\b|hi|hello|Hello|hey|Hey\", re.IGNORECASE)}, \n",
    "        },\n",
    "        \"node1\": {\n",
    "            RESPONSE: \"Hi I'm Health and medicine Chatbot Assitant, how may help you?\",  \n",
    "            TRANSITIONS: {\"node2\": cnd.regexp(r\"\\bappointment|Appointment\\b|\\bdoctor|Doctor|Physicians|Cardiologists|Gastroenterologists|Dentist|ENT specialist|Gynaecologist\", re.IGNORECASE),\n",
    "                         \"node3\": cnd.regexp(r\"\\bhealth|Health\\b|\\bmedicine|Medicine\", re.IGNORECASE),\n",
    "                         \"node4\": cnd.regexp(r\"\\bdiet|Diet\\b|\\bmental health|Mental health\", re.IGNORECASE),\n",
    "                         \"node5\": cnd.regexp(r\"\\bThanks|thanks|Thanking|thanking|Good|good|OK|ok|Ok\", re.IGNORECASE)},\n",
    "        },\n",
    "        \"node2\": {\n",
    "            RESPONSE: healmed_request,\n",
    "            TRANSITIONS: {\"node2\": cnd.regexp(r\"\\bappointment|Appointment\\b|\\bdoctor|Doctor|Physicians|Cardiologists|Gastroenterologists|Dentist|ENT specialist|Gynaecologist\", re.IGNORECASE),\n",
    "                         \"node3\": cnd.regexp(r\"\\bhealth|Health\\b|\\bmedicine|Medicine\", re.IGNORECASE),\n",
    "                         \"node4\": cnd.regexp(r\"\\bdiet|Diet\\b|\\bmental health|Mental health\", re.IGNORECASE),\n",
    "                         \"node5\": cnd.regexp(r\"\\bThanks|thanks|Thanking|thanking|Good|good|OK|ok|Ok\", re.IGNORECASE)},\n",
    "            \n",
    "        },\n",
    "        \"node3\": {\n",
    "            RESPONSE: healmed_request,\n",
    "            TRANSITIONS: {\"node2\": cnd.regexp(r\"\\bappointment|Appointment\\b|\\bdoctor|Doctor|Physicians|Cardiologists|Gastroenterologists|Dentist|ENT specialist|Gynaecologist\", re.IGNORECASE),\n",
    "                         \"node3\": cnd.regexp(r\"\\bhealth|Health\\b|\\bmedicine|Medicine\", re.IGNORECASE),\n",
    "                         \"node4\": cnd.regexp(r\"\\bdiet|Diet\\b|\\bmental health|Mental health\", re.IGNORECASE),\n",
    "                         \"node5\": cnd.regexp(r\"\\bThanks|thanks|Thanking|thanking|Good|good|OK|ok|Ok\", re.IGNORECASE)},\n",
    "        },\n",
    "        \"node4\": {\n",
    "            RESPONSE: healmed_request,\n",
    "            TRANSITIONS: {\"node2\": cnd.regexp(r\"\\bappointment|Appointment\\b|\\bdoctor|Doctor|Physicians|Cardiologists|Gastroenterologists|Dentist|ENT specialist|Gynaecologist\", re.IGNORECASE),\n",
    "                         \"node3\": cnd.regexp(r\"\\bhealth|Health\\b|\\bmedicine|Medicine\", re.IGNORECASE),\n",
    "                         \"node4\": cnd.regexp(r\"\\bdiet|Diet\\b|\\bmental_health|Mental_health\", re.IGNORECASE),\n",
    "                         \"node5\": cnd.regexp(r\"\\bThanks|thanks|Thanking|thanking|Good|good|OK|ok|Ok\", re.IGNORECASE)},\n",
    "        },\n",
    "        \"node5\": {\n",
    "            RESPONSE: \"Welcome Sir/Mam\",\n",
    "            TRANSITIONS: {\"node2\": cnd.regexp(r\"\\bappointment|Appointment\\b|\\bdoctor|Doctor|Physicians|Cardiologists|Gastroenterologists|Dentist|ENT specialist|Gynaecologist\", re.IGNORECASE),\n",
    "                         \"node3\": cnd.regexp(r\"\\bhealth|Health\\b|\\bmedicine|Medicine\", re.IGNORECASE),\n",
    "                         \"node4\": cnd.regexp(r\"\\bdiet|Diet\\b|\\bmental health|Mental health\", re.IGNORECASE),\n",
    "                         \"node5\": cnd.regexp(r\"\\bThanks|thanks|Thanking|thanking|Good|good|OK|ok|Ok\", re.IGNORECASE),\n",
    "                         \"node6\": cnd.regexp(r\"\\bNo|no|NO|Nothing|nothing\", re.IGNORECASE)},\n",
    "        },\n",
    "        \"node6\": {RESPONSE: \"bye\", TRANSITIONS: {\"node1\": cnd.exact_match(\"Hi\")}},\n",
    "        \"fallback_node\": {  # We get to this node if an error occurred while the agent was running\n",
    "            RESPONSE: \"Sure Sir, I thanks for your visit but your can go other services if needed you can type 'hi'\",\n",
    "            TRANSITIONS: {\"node1\": cnd.regexp(r\"\\bHi\\b|hi|hello|Hello|hey|Hey\", re.IGNORECASE)},\n",
    "        },\n",
    "    }\n",
    "}\n",
    "\n",
    "# An actor is an object that processes user input replicas and returns responses\n",
    "# To create the actor, you need to pass the script of the dialogue `plot`\n",
    "# And pass the initial node `start_label`\n",
    "# and the node to which the actor will go in case of an error `fallback_label`\n",
    "# If `fallback_label` is not set, then its value becomes equal to `start_label` by default\n",
    "actor = Actor(plot, start_label=(\"greeting_flow\", \"start_node\"), fallback_label=(\"greeting_flow\", \"fallback_node\"))\n",
    "\n",
    "\n",
    "# turn_handler - a function is made for the convenience of working with an actor\n",
    "def turn_handler(\n",
    "    in_request: str, ctx: Union[Context, str, dict], actor: Actor, true_out_response: Optional[str] = None\n",
    "):\n",
    "    # Context.cast - gets an object type of [Context, str, dict] returns an object type of Context\n",
    "    ctx = Context.cast(ctx)\n",
    "    # Add in current context a next request of user\n",
    "    ctx.add_request(in_request)\n",
    "    # pass the context into actor and it returns updated context with actor response\n",
    "    ctx = actor(ctx)\n",
    "    # get last actor response from the context\n",
    "    out_response = ctx.last_response\n",
    "    # the next condition branching needs for testing\n",
    "    if true_out_response is not None and true_out_response != out_response:\n",
    "        msg = f\"in_request={in_request} -> true_out_response != out_response: {true_out_response} != {out_response}\"\n",
    "        raise Exception(msg)\n",
    "    else:\n",
    "        logging.info(f\"in_request={in_request} ->\\n {out_response}\")\n",
    "    return out_response, ctx\n",
    "\n",
    "\n",
    "# testing\n",
    "testing_dialog = [\n",
    "    (\"Hi\", \"Hi I'm Health and medicine Chatbot Assitant, how may help you?\"),  # start_node -> node1\n",
    "    (\"I want to book a appointment?\",\"OK! I have book a appointment of Doctor for health checkup for you Sir\"),\n",
    "    (\"Physicians\", \"OK! I have book a appointment of physicians Doctor for you Sir\"),  \n",
    "    (\"Thanks\", \"Welcome Sir/Mam\"),  \n",
    "    (\"bye\", \"Sure Sir, I thanks for your visit but your can go other services if needed you can type 'hi'\"),\n",
    "    (\"Hi\", \"Hi I'm Health and medicine Chatbot Assitant, how may help you?\"),\n",
    "    (\"What is health?\", \"Health refers to the extent of a person’s physical, mental, and social well-being. This definition, taken from the World Health Organization’s treatment of health, emphasizes that health is a complex concept that involves not just the soundness of a person’s body but also the state of a person’s mind and the quality of the social environment in which she or he lives. The quality of the social environment in turn can affect a person’s physical and mental health, underscoring the importance of social factors for these twin aspects of our overall well-being.\"),  \n",
    "    (\"What is medicine\",\"Medicine is the social institution that seeks both to prevent, diagnose, and treat illness and to promote health as just defined. Dissatisfaction with the medical establishment has been growing.Part of this dissatisfaction stems from soaring health-care costs and what many perceive as insensitive stinginess by the health insurance industry, as the 2009 battle over health-care reform illustrated. Some of the dissatisfaction also reflects a growing view that the social and even spiritual realms of human existence play a key role in health and illness. This view has fueled renewed interestin alternative medicine. We return later to these many issues for the social institution of medicine.\"),        #\n",
    "    (\"what is mental_health?\", \"Mental health refers to cognitive, behavioral, and emotional well-being. It is all about how people think, feel, and behave. People sometimes use the term “mental health” to mean the absence of a mental disorder. Mental health can affect daily living, relationships, and physical health.Mental health as a state of well-being in which the individual realizes his or her own abilities, can cope with the normal stresses of life, can work productively and fruitfully, and is able to make a contribution to his or her community.\"), \n",
    "    (\"how  can are change my diet?\", \"Diet is the sum of food consumed by a person or other organism. The word diet often implies the use of specific intake of nutrition for health or weight-management reasons (with the two often being related). Although humans are omnivores, each culture and each person holds some food preferences or some food taboos. This may be due to personal tastes or ethical reasons. Individual dietary choices may be more or less healthy.Diet includes a variety of plant-based and animal-based foods that provide nutrients tothe body. Such nutrients provide the body with energy and keep it running. Nutrients help build and strengthenbones, muscles, and tendons and also regulate body processes (i.e., blood pressure). Water is essential for growth, reproduction and good health. Macronutrients are consumed in relatively large quantities and include proteins, carbohydrates, and fats and fatty acids. Micronutrients – vitamins and minerals – are consumed in relatively smaller quantities, but are essential to body processes.\"),  \n",
    "    (\"what a doctor\", \"There is a many doctor like following:\\n- Physicians\\n- Cardiologists\\n- Gastroenterologists\\n- Dentist\\n- ENT specialist\\n- Gynaecologist\\nPlease write type of doctor according above way\"),    \n",
    "    (\"Ok\", \"Welcome Sir/Mam\"),\n",
    "    (\"bye\",\"Sure Sir, I thanks for your visit but your can go other services if needed you can type 'hi'\"),\n",
    "]\n",
    "\n",
    "\n",
    "def run_test():\n",
    "    ctx = {}\n",
    "    for in_request, true_out_response in testing_dialog:\n",
    "        _, ctx = turn_handler(in_request, ctx, actor, true_out_response=true_out_response)\n",
    "\n",
    "\n",
    "# interactive mode\n",
    "def run_interactive_mode(actor):\n",
    "    ctx = {}\n",
    "    while True:\n",
    "        in_request = input(\"type your answer: \")\n",
    "        _, ctx = turn_handler(in_request, ctx, actor)\n",
    "\n",
    "\n",
    "if __name__ == \"__main__\":\n",
    "    logging.basicConfig(\n",
    "        format=\"%(asctime)s-%(name)15s:%(lineno)3s:%(funcName)20s():%(levelname)s - %(message)s\", level=logging.INFO\n",
    "    )\n",
    "    run_test()\n",
    "    print(\"<-- Test Successful -->\")\n",
    "#     run_interactive_mode(actor)\n",
    "\n",
    "\n",
    "\n"
   ]
  },
  {
   "cell_type": "code",
   "execution_count": null,
   "id": "993f83e7",
   "metadata": {},
   "outputs": [
    {
     "name": "stdout",
     "output_type": "stream",
     "text": [
      "type your answer: hey\n"
     ]
    },
    {
     "name": "stderr",
     "output_type": "stream",
     "text": [
      "2022-01-11 07:23:17,806-           root:104:        turn_handler():INFO - in_request=hey ->\n",
      " Hi I'm Health and medicine Chatbot Assitant, how may help you?\n"
     ]
    },
    {
     "name": "stdout",
     "output_type": "stream",
     "text": [
      "type your answer: I want an appointment of doctor\n"
     ]
    },
    {
     "name": "stderr",
     "output_type": "stream",
     "text": [
      "2022-01-11 07:23:43,606-           root:104:        turn_handler():INFO - in_request=I want an appointment of doctor ->\n",
      " OK! I have book a appointment of Doctor for health checkup for you Sir\n"
     ]
    },
    {
     "name": "stdout",
     "output_type": "stream",
     "text": [
      "type your answer: which doctor\n"
     ]
    },
    {
     "name": "stderr",
     "output_type": "stream",
     "text": [
      "2022-01-11 07:23:52,099-           root:104:        turn_handler():INFO - in_request=which doctor ->\n",
      " There is a many doctor like following:\n",
      "- Physicians\n",
      "- Cardiologists\n",
      "- Gastroenterologists\n",
      "- Dentist\n",
      "- ENT specialist\n",
      "- Gynaecologist\n",
      "Please write type of doctor according above way\n"
     ]
    },
    {
     "name": "stdout",
     "output_type": "stream",
     "text": [
      "type your answer: Physicians\n"
     ]
    },
    {
     "name": "stderr",
     "output_type": "stream",
     "text": [
      "2022-01-11 07:24:06,826-           root:104:        turn_handler():INFO - in_request=Physicians ->\n",
      " OK! I have book a appointment of physicians Doctor for you Sir\n"
     ]
    },
    {
     "name": "stdout",
     "output_type": "stream",
     "text": [
      "type your answer: thanks\n"
     ]
    },
    {
     "name": "stderr",
     "output_type": "stream",
     "text": [
      "2022-01-11 07:24:42,226-           root:104:        turn_handler():INFO - in_request=thanks ->\n",
      " Welcome Sir/Mam\n"
     ]
    },
    {
     "name": "stdout",
     "output_type": "stream",
     "text": [
      "type your answer: ok\n"
     ]
    },
    {
     "name": "stderr",
     "output_type": "stream",
     "text": [
      "2022-01-11 07:24:46,841-           root:104:        turn_handler():INFO - in_request=ok ->\n",
      " Welcome Sir/Mam\n"
     ]
    },
    {
     "name": "stdout",
     "output_type": "stream",
     "text": [
      "type your answer: bye\n"
     ]
    },
    {
     "name": "stderr",
     "output_type": "stream",
     "text": [
      "2022-01-11 07:24:50,353-           root:104:        turn_handler():INFO - in_request=bye ->\n",
      " Sure Sir, I thanks for your visit but your can go other services if needed you can type 'hi'\n"
     ]
    },
    {
     "name": "stdout",
     "output_type": "stream",
     "text": [
      "type your answer: hi\n"
     ]
    },
    {
     "name": "stderr",
     "output_type": "stream",
     "text": [
      "2022-01-11 07:24:53,475-           root:104:        turn_handler():INFO - in_request=hi ->\n",
      " Hi I'm Health and medicine Chatbot Assitant, how may help you?\n"
     ]
    },
    {
     "name": "stdout",
     "output_type": "stream",
     "text": [
      "type your answer: what is health\n"
     ]
    },
    {
     "name": "stderr",
     "output_type": "stream",
     "text": [
      "2022-01-11 07:24:59,789-           root:104:        turn_handler():INFO - in_request=what is health ->\n",
      " Health refers to the extent of a person’s physical, mental, and social well-being. This definition, taken from the World Health Organization’s treatment of health, emphasizes that health is a complex concept that involves not just the soundness of a person’s body but also the state of a person’s mind and the quality of the social environment in which she or he lives. The quality of the social environment in turn can affect a person’s physical and mental health, underscoring the importance of social factors for these twin aspects of our overall well-being.\n"
     ]
    },
    {
     "name": "stdout",
     "output_type": "stream",
     "text": [
      "type your answer: and medicine\n"
     ]
    },
    {
     "name": "stderr",
     "output_type": "stream",
     "text": [
      "2022-01-11 07:25:06,234-           root:104:        turn_handler():INFO - in_request=and medicine ->\n",
      " Medicine is the social institution that seeks both to prevent, diagnose, and treat illness and to promote health as just defined. Dissatisfaction with the medical establishment has been growing.Part of this dissatisfaction stems from soaring health-care costs and what many perceive as insensitive stinginess by the health insurance industry, as the 2009 battle over health-care reform illustrated. Some of the dissatisfaction also reflects a growing view that the social and even spiritual realms of human existence play a key role in health and illness. This view has fueled renewed interestin alternative medicine. We return later to these many issues for the social institution of medicine.\n"
     ]
    },
    {
     "name": "stdout",
     "output_type": "stream",
     "text": [
      "type your answer: how can I change my diet plan\n"
     ]
    },
    {
     "name": "stderr",
     "output_type": "stream",
     "text": [
      "2022-01-11 07:25:19,024-           root:104:        turn_handler():INFO - in_request=how can I change my diet plan ->\n",
      " Diet is the sum of food consumed by a person or other organism. The word diet often implies the use of specific intake of nutrition for health or weight-management reasons (with the two often being related). Although humans are omnivores, each culture and each person holds some food preferences or some food taboos. This may be due to personal tastes or ethical reasons. Individual dietary choices may be more or less healthy.Diet includes a variety of plant-based and animal-based foods that provide nutrients tothe body. Such nutrients provide the body with energy and keep it running. Nutrients help build and strengthenbones, muscles, and tendons and also regulate body processes (i.e., blood pressure). Water is essential for growth, reproduction and good health. Macronutrients are consumed in relatively large quantities and include proteins, carbohydrates, and fats and fatty acids. Micronutrients – vitamins and minerals – are consumed in relatively smaller quantities, but are essential to body processes.\n"
     ]
    },
    {
     "name": "stdout",
     "output_type": "stream",
     "text": [
      "type your answer: I issue of mental_Health\n"
     ]
    },
    {
     "name": "stderr",
     "output_type": "stream",
     "text": [
      "2022-01-11 07:25:35,124-           root:104:        turn_handler():INFO - in_request=I issue of mental_Health ->\n",
      " Mental health refers to cognitive, behavioral, and emotional well-being. It is all about how people think, feel, and behave. People sometimes use the term “mental health” to mean the absence of a mental disorder. Mental health can affect daily living, relationships, and physical health.Mental health as a state of well-being in which the individual realizes his or her own abilities, can cope with the normal stresses of life, can work productively and fruitfully, and is able to make a contribution to his or her community.\n"
     ]
    },
    {
     "name": "stdout",
     "output_type": "stream",
     "text": [
      "type your answer: good\n"
     ]
    },
    {
     "name": "stderr",
     "output_type": "stream",
     "text": [
      "2022-01-11 07:26:07,348-           root:104:        turn_handler():INFO - in_request=good ->\n",
      " Welcome Sir/Mam\n"
     ]
    }
   ],
   "source": [
    "import re\n",
    "import logging\n",
    "from typing import Optional, Union\n",
    "\n",
    "from df_engine.core.keywords import TRANSITIONS, RESPONSE\n",
    "from df_engine.core import Context, Actor\n",
    "import df_engine.conditions as cnd\n",
    "\n",
    "logger = logging.getLogger(__name__)\n",
    "\n",
    "# First of all, to create a dialog agent, we need to create a dialog script.\n",
    "# Below, `plot` is the dialog script.\n",
    "# A dialog script is a flow dictionary that can contain multiple plot .\n",
    "# Plot are needed in order to divide a dialog into sub-dialogs and process them separately.\n",
    "# For example, the separation can be tied to the topic of the dialog.\n",
    "# In our example, there is one flow called greeting_flow.\n",
    "\n",
    "# Inside each flow, we can describe a sub-dialog.\n",
    "# Here we can also use keyword `LOCAL`, which we have considered in other examples.\n",
    "\n",
    "# Flow describes a sub-dialog using linked nodes, each node has the keywords `RESPONSE` and `TRANSITIONS`.\n",
    "\n",
    "# `RESPONSE` - contains the response that the dialog agent will return when transitioning to this node.\n",
    "# `TRANSITIONS` - describes transitions from the current node to other nodes.\n",
    "# `TRANSITIONS` are described in pairs:\n",
    "#      - the node to which the agent will perform the transition\n",
    "#      - the condition under which to make the transition\n",
    "plot = {\n",
    "    \"greeting_flow\": {\n",
    "        \"start_node\": {  # This is an initial node, it doesn't need an `RESPONSE`\n",
    "            RESPONSE: \"\",\n",
    "            TRANSITIONS: {\"node1\": cnd.regexp(r\"\\bHi\\b|hi|hello|Hello|hey|Hey\", re.IGNORECASE)}, \n",
    "        },\n",
    "        \"node1\": {\n",
    "            RESPONSE: \"Hi I'm Health and medicine Chatbot Assitant, how may help you?\",  \n",
    "            TRANSITIONS: {\"node2\": cnd.regexp(r\"\\bappointment|Appointment\\b|\\bdoctor|Doctor|Physicians|Cardiologists|Gastroenterologists|Dentist|ENT specialist|Gynaecologist\", re.IGNORECASE),\n",
    "                         \"node3\": cnd.regexp(r\"\\bhealth|Health\\b|\\bmedicine|Medicine\", re.IGNORECASE),\n",
    "                         \"node4\": cnd.regexp(r\"\\bdiet|Diet\\b|\\bmental health|Mental health\", re.IGNORECASE),\n",
    "                         \"node5\": cnd.regexp(r\"\\bThanks|thanks|Thanking|thanking|\\bGood|\\bgood|OK|ok|Ok\", re.IGNORECASE)},\n",
    "        },\n",
    "        \"node2\": {\n",
    "            RESPONSE: healmed_request,\n",
    "            TRANSITIONS: {\"node2\": cnd.regexp(r\"\\bappointment|Appointment\\b|\\bdoctor|Doctor|Physicians|Cardiologists|Gastroenterologists|Dentist|ENT specialist|Gynaecologist\", re.IGNORECASE),\n",
    "                         \"node3\": cnd.regexp(r\"\\bhealth|Health\\b|\\bmedicine|Medicine\", re.IGNORECASE),\n",
    "                         \"node4\": cnd.regexp(r\"\\bdiet|Diet\\b|\\bmental health|Mental health\", re.IGNORECASE),\n",
    "                         \"node5\": cnd.regexp(r\"\\bThanks|thanks|Thanking|thanking|Good|good|OK|ok|Ok\", re.IGNORECASE)},\n",
    "            \n",
    "        },\n",
    "        \"node3\": {\n",
    "            RESPONSE: healmed_request,\n",
    "            TRANSITIONS: {\"node2\": cnd.regexp(r\"\\bappointment|Appointment\\b|\\bdoctor|Doctor|Physicians|Cardiologists|Gastroenterologists|Dentist|ENT specialist|Gynaecologist\", re.IGNORECASE),\n",
    "                         \"node3\": cnd.regexp(r\"\\bhealth|Health\\b|\\bmedicine|Medicine\", re.IGNORECASE),\n",
    "                         \"node4\": cnd.regexp(r\"\\bdiet|Diet\\b|\\bmental health|Mental health\", re.IGNORECASE),\n",
    "                         \"node5\": cnd.regexp(r\"\\bThanks|thanks|Thanking|thanking|Good|good|OK|ok|Ok\", re.IGNORECASE)},\n",
    "        },\n",
    "        \"node4\": {\n",
    "            RESPONSE: healmed_request,\n",
    "            TRANSITIONS: {\"node2\": cnd.regexp(r\"\\bappointment|Appointment\\b|\\bdoctor|Doctor|Physicians|Cardiologists|Gastroenterologists|Dentist|ENT specialist|Gynaecologist\", re.IGNORECASE),\n",
    "                         \"node3\": cnd.regexp(r\"\\bhealth|Health\\b|\\bmedicine|Medicine\", re.IGNORECASE),\n",
    "                         \"node4\": cnd.regexp(r\"\\bdiet|Diet\\b|\\bmental_health|Mental_health\", re.IGNORECASE),\n",
    "                         \"node5\": cnd.regexp(r\"\\bThanks|thanks|Thanking|thanking|Good|good|OK|ok|Ok\", re.IGNORECASE)},\n",
    "        },\n",
    "        \"node5\": {\n",
    "            RESPONSE: \"Welcome Sir/Mam\",\n",
    "            TRANSITIONS: {\"node2\": cnd.regexp(r\"\\bappointment|Appointment\\b|\\bdoctor|Doctor|Physicians|Cardiologists|Gastroenterologists|Dentist|ENT specialist|Gynaecologist\", re.IGNORECASE),\n",
    "                         \"node3\": cnd.regexp(r\"\\bhealth|Health\\b|\\bmedicine|Medicine\", re.IGNORECASE),\n",
    "                         \"node4\": cnd.regexp(r\"\\bdiet|Diet\\b|\\bmental health|Mental health\", re.IGNORECASE),\n",
    "                         \"node5\": cnd.regexp(r\"\\bThanks|thanks|Thanking|thanking|Good|good|OK|ok|Ok\", re.IGNORECASE),\n",
    "                         \"node6\": cnd.regexp(r\"\\bNo|no|NO|Nothing|nothing\", re.IGNORECASE)},\n",
    "        },\n",
    "        \"node6\": {RESPONSE: \"bye\", TRANSITIONS: {\"node1\": cnd.exact_match(\"Hi\")}},\n",
    "        \"fallback_node\": {  # We get to this node if an error occurred while the agent was running\n",
    "            RESPONSE: \"Sure Sir, I thanks for your visit but your can go other services if needed you can type 'hi'\",\n",
    "            TRANSITIONS: {\"node1\": cnd.regexp(r\"\\bHi\\b|hi|hello|Hello|hey|Hey\", re.IGNORECASE)},\n",
    "        },\n",
    "    }\n",
    "}\n",
    "\n",
    "# An actor is an object that processes user input replicas and returns responses\n",
    "# To create the actor, you need to pass the script of the dialogue `plot`\n",
    "# And pass the initial node `start_label`\n",
    "# and the node to which the actor will go in case of an error `fallback_label`\n",
    "# If `fallback_label` is not set, then its value becomes equal to `start_label` by default\n",
    "actor = Actor(plot, start_label=(\"greeting_flow\", \"start_node\"), fallback_label=(\"greeting_flow\", \"fallback_node\"))\n",
    "\n",
    "\n",
    "# turn_handler - a function is made for the convenience of working with an actor\n",
    "def turn_handler(\n",
    "    in_request: str, ctx: Union[Context, str, dict], actor: Actor, true_out_response: Optional[str] = None\n",
    "):\n",
    "    # Context.cast - gets an object type of [Context, str, dict] returns an object type of Context\n",
    "    ctx = Context.cast(ctx)\n",
    "    # Add in current context a next request of user\n",
    "    ctx.add_request(in_request)\n",
    "    # pass the context into actor and it returns updated context with actor response\n",
    "    ctx = actor(ctx)\n",
    "    # get last actor response from the context\n",
    "    out_response = ctx.last_response\n",
    "    # the next condition branching needs for testing\n",
    "    if true_out_response is not None and true_out_response != out_response:\n",
    "        msg = f\"in_request={in_request} -> true_out_response != out_response: {true_out_response} != {out_response}\"\n",
    "        raise Exception(msg)\n",
    "    else:\n",
    "        logging.info(f\"in_request={in_request} ->\\n {out_response}\")\n",
    "    return out_response, ctx\n",
    "\n",
    "\n",
    "# testing\n",
    "testing_dialog = [\n",
    "    (\"Hi\", \"Hi I'm Health and medicine Chatbot Assitant, how may help you?\"),  # start_node -> node1\n",
    "    (\"I want to book a appointment, how are you?\", \"Good. What do you want to talk about?\"),  # node1 -> node2\n",
    "    (\"\", \"Sorry, I can not talk about music now.\"),  \n",
    "    (\"Ok, goodbye.\", \"bye\"),  \n",
    "    (\"Hi\", \"Hi, how are you?\"), \n",
    "    (\"What is health\", \"Ooops\"),  # node1 -> node2\n",
    "    (\"stop\", \"Ooops\"),  \n",
    "    (\"What is medicine\",),        # node1 -> node2\n",
    "    (\"Hi\", \"Hi, how are you?\"), \n",
    "    (\"i'm fine, how are you?\", \"Good. What do you want to talk about?\"),  \n",
    "    (\"I want to know the diet\", \"Sorry, I can not talk about music now.\"),    \n",
    "    (\"Ok, goodbye.\", \"bye\"),  \n",
    "]\n",
    "\n",
    "\n",
    "def run_test():\n",
    "    ctx = {}\n",
    "    for in_request, true_out_response in testing_dialog:\n",
    "        _, ctx = turn_handler(in_request, ctx, actor, true_out_response=true_out_response)\n",
    "\n",
    "\n",
    "# interactive mode\n",
    "def run_interactive_mode(actor):\n",
    "    ctx = {}\n",
    "    while True:\n",
    "        in_request = input(\"type your answer: \")\n",
    "        _, ctx = turn_handler(in_request, ctx, actor)\n",
    "\n",
    "\n",
    "if __name__ == \"__main__\":\n",
    "    logging.basicConfig(\n",
    "        format=\"%(asctime)s-%(name)15s:%(lineno)3s:%(funcName)20s():%(levelname)s - %(message)s\", level=logging.INFO\n",
    "    )\n",
    "#     run_test()\n",
    "    run_interactive_mode(actor)\n",
    "\n",
    "\n",
    "\n"
   ]
  },
  {
   "cell_type": "code",
   "execution_count": null,
   "id": "26b2a997",
   "metadata": {},
   "outputs": [],
   "source": [
    "# request= (\"What is Health\").lower()\n",
    "# re.search(r'\\bhealth\\b|\\bmedicine', request, re.IGNORECASE)[0]"
   ]
  }
 ],
 "metadata": {
  "kernelspec": {
   "display_name": "Python 3",
   "language": "python",
   "name": "python3"
  },
  "language_info": {
   "codemirror_mode": {
    "name": "ipython",
    "version": 3
   },
   "file_extension": ".py",
   "mimetype": "text/x-python",
   "name": "python",
   "nbconvert_exporter": "python",
   "pygments_lexer": "ipython3",
   "version": "3.8.8"
  }
 },
 "nbformat": 4,
 "nbformat_minor": 5
}
