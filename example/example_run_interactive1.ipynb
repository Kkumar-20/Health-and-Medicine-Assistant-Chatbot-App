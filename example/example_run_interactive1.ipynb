{
 "cells": [
  {
   "cell_type": "code",
   "execution_count": 3,
   "id": "551c90b3",
   "metadata": {},
   "outputs": [
    {
     "name": "stdout",
     "output_type": "stream",
     "text": [
      "Collecting df_engine==0.8.1\n",
      "  Downloading df_engine-0.8.1-py3-none-any.whl (51 kB)\n",
      "\u001b[K     |████████████████████████████████| 51 kB 1.2 MB/s eta 0:00:01\n",
      "\u001b[?25hCollecting nltk==3.5\n",
      "  Downloading nltk-3.5.zip (1.4 MB)\n",
      "\u001b[K     |████████████████████████████████| 1.4 MB 22.6 MB/s eta 0:00:01\n",
      "\u001b[?25hCollecting pydantic>=1.8.2\n",
      "  Downloading pydantic-1.8.2-cp38-cp38-macosx_10_9_x86_64.whl (2.6 MB)\n",
      "\u001b[K     |████████████████████████████████| 2.6 MB 27.2 MB/s eta 0:00:01\n",
      "\u001b[?25hRequirement already satisfied: click in /opt/anaconda3/lib/python3.8/site-packages (from nltk==3.5->-r requirements.txt (line 2)) (7.1.2)\n",
      "Requirement already satisfied: joblib in /opt/anaconda3/lib/python3.8/site-packages (from nltk==3.5->-r requirements.txt (line 2)) (1.0.1)\n",
      "Requirement already satisfied: regex in /opt/anaconda3/lib/python3.8/site-packages (from nltk==3.5->-r requirements.txt (line 2)) (2021.4.4)\n",
      "Requirement already satisfied: tqdm in /opt/anaconda3/lib/python3.8/site-packages (from nltk==3.5->-r requirements.txt (line 2)) (4.59.0)\n",
      "Requirement already satisfied: typing-extensions>=3.7.4.3 in /opt/anaconda3/lib/python3.8/site-packages (from pydantic>=1.8.2->df_engine==0.8.1->-r requirements.txt (line 1)) (3.7.4.3)\n",
      "Building wheels for collected packages: nltk\n",
      "  Building wheel for nltk (setup.py) ... \u001b[?25ldone\n",
      "\u001b[?25h  Created wheel for nltk: filename=nltk-3.5-py3-none-any.whl size=1434676 sha256=d146486660d12704485f8df68c63c27bbcc2eb29c01cdfadf0fad5bc78ca7426\n",
      "  Stored in directory: /Users/kanishkkumar/Library/Caches/pip/wheels/ff/d5/7b/f1fb4e1e1603b2f01c2424dd60fbcc50c12ef918bafc44b155\n",
      "Successfully built nltk\n",
      "Installing collected packages: pydantic, nltk, df-engine\n",
      "  Attempting uninstall: nltk\n",
      "    Found existing installation: nltk 3.6.1\n",
      "    Uninstalling nltk-3.6.1:\n",
      "      Successfully uninstalled nltk-3.6.1\n",
      "Successfully installed df-engine-0.8.1 nltk-3.5 pydantic-1.8.2\n",
      "Note: you may need to restart the kernel to use updated packages.\n"
     ]
    }
   ],
   "source": [
    "pip install -r requirements.txt"
   ]
  },
  {
   "cell_type": "code",
   "execution_count": 10,
   "id": "385ca3ab",
   "metadata": {},
   "outputs": [],
   "source": [
    "import time\n",
    "from typing import Optional, Union\n",
    "\n",
    "from scenario.main import actor\n",
    "from df_engine.core import Actor, Context\n",
    "from annotators.main import annotate\n"
   ]
  },
  {
   "cell_type": "code",
   "execution_count": 11,
   "id": "a840c641",
   "metadata": {},
   "outputs": [],
   "source": [
    "def turn_handler(in_request: str,ctx: Union[Context, str, dict],actor: Actor,true_out_response: Optional[str] = None,\n",
    "):\n",
    "    # Context.cast - gets an object type of [Context, str, dict] returns an object type of Context\n",
    "    ctx = Context.cast(ctx)\n",
    "\n",
    "    # Add in current context a next request of user\n",
    "    ctx.add_request(in_request)\n",
    "    ctx = annotate(ctx)\n",
    "\n",
    "    # pass the context into actor and it returns updated context with actor response\n",
    "    ctx = actor(ctx)\n",
    "    # get last actor response from the context\n",
    "    out_response = ctx.last_response\n",
    "    # the next condition branching needs for testing\n",
    "    if true_out_response is not None and true_out_response != out_response:\n",
    "        raise Exception(f\"{in_request=} -> true_out_response != out_response: {true_out_response} != {out_response}\")\n",
    "    else:\n",
    "        print(f\"{in_request=} -> {out_response}\")\n",
    "    return out_response, ctx"
   ]
  },
  {
   "cell_type": "code",
   "execution_count": null,
   "id": "db939386",
   "metadata": {},
   "outputs": [
    {
     "name": "stdout",
     "output_type": "stream",
     "text": [
      "type your answer: hey\n",
      "in_request='hey' -> hi\n",
      "exec time = 0.014s\n"
     ]
    }
   ],
   "source": [
    "if __name__ == \"__main__\":\n",
    "    ctx = {}\n",
    "    while True:\n",
    "        in_request = input(\"type your answer: \")\n",
    "        st_time = time.time()\n",
    "        out_response, ctx = turn_handler(in_request, ctx, actor)\n",
    "        total_time = time.time() - st_time\n",
    "        print(f\"exec time = {total_time:.3f}s\")"
   ]
  },
  {
   "cell_type": "code",
   "execution_count": null,
   "id": "81c12847",
   "metadata": {},
   "outputs": [],
   "source": []
  }
 ],
 "metadata": {
  "kernelspec": {
   "display_name": "Python 3",
   "language": "python",
   "name": "python3"
  },
  "language_info": {
   "codemirror_mode": {
    "name": "ipython",
    "version": 3
   },
   "file_extension": ".py",
   "mimetype": "text/x-python",
   "name": "python",
   "nbconvert_exporter": "python",
   "pygments_lexer": "ipython3",
   "version": "3.8.8"
  }
 },
 "nbformat": 4,
 "nbformat_minor": 5
}
