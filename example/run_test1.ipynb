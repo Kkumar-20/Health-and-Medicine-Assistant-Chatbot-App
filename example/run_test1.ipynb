{
 "cells": [
  {
   "cell_type": "code",
   "execution_count": 1,
   "id": "510c2697",
   "metadata": {},
   "outputs": [],
   "source": [
    "import random\n",
    "\n",
    "from scenario.main import actor\n",
    "import run_interactive"
   ]
  },
  {
   "cell_type": "code",
   "execution_count": 2,
   "id": "ca1a4dd3",
   "metadata": {},
   "outputs": [],
   "source": [
    "random.seed(314)\n",
    "\n",
    "# testing\n",
    "testing_dialog = [(\"hi\", \"hi\")]\n",
    "\n",
    "\n",
    "def run_test():\n",
    "    ctx = {}\n",
    "    for in_request, true_out_response in testing_dialog:\n",
    "        _, ctx = run_interactive.turn_handler(in_request, ctx, actor, true_out_response=true_out_response)\n",
    "    print(\"test passed\")"
   ]
  },
  {
   "cell_type": "code",
   "execution_count": 4,
   "id": "a9be334f",
   "metadata": {},
   "outputs": [
    {
     "name": "stdout",
     "output_type": "stream",
     "text": [
      "in_request='hi' -> hi\n",
      "test passed\n"
     ]
    }
   ],
   "source": [
    "if __name__ == \"__main__\":\n",
    "    run_test()"
   ]
  }
 ],
 "metadata": {
  "kernelspec": {
   "display_name": "Python 3",
   "language": "python",
   "name": "python3"
  },
  "language_info": {
   "codemirror_mode": {
    "name": "ipython",
    "version": 3
   },
   "file_extension": ".py",
   "mimetype": "text/x-python",
   "name": "python",
   "nbconvert_exporter": "python",
   "pygments_lexer": "ipython3",
   "version": "3.8.8"
  }
 },
 "nbformat": 4,
 "nbformat_minor": 5
}
